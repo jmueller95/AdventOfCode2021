{
 "cells": [
  {
   "cell_type": "markdown",
   "id": "0f9fc08d-74a4-4c31-ac72-8d8db6827d81",
   "metadata": {},
   "source": [
    "PART I"
   ]
  },
  {
   "cell_type": "code",
   "execution_count": 63,
   "id": "2e8e38c1-1430-4fdd-8e8d-4e2fdb9f236b",
   "metadata": {
    "scrolled": true
   },
   "outputs": [
    {
     "name": "stdout",
     "output_type": "stream",
     "text": [
      "35\n"
     ]
    }
   ],
   "source": [
    "input = \"input_small.txt\"\n",
    "with open(input, 'r') as infile:\n",
    "    data = [l.strip() for l in infile.readlines()]\n",
    "#Maintain a map of the current value of each identifier\n",
    "#and a Boolean 'Flag' variable indicating whether the value has been changed by the current map\n",
    "#Then we can just go through the map once and try to map everything that hasn't been mapped yet\n",
    "#Then after each map, we have to reset this flag for every identifier\n",
    "identifiers = [(int(n), False) for n in data[0].split()[1:]]\n",
    "\n",
    "#Helper function to map source to destination\n",
    "#Returns the new id alongside a boolean if the mapping was successful\n",
    "def map_source_to_dest(dest_range_start, source_range_start, \n",
    "                       range_length, id_to_be_mapped):\n",
    "    #If the value is outside the range, don't map\n",
    "    if id_to_be_mapped < source_range_start or id_to_be_mapped >= source_range_start + range_length:\n",
    "        return (id_to_be_mapped, False)\n",
    "    else:\n",
    "        return (dest_range_start + (id_to_be_mapped - source_range_start), True)\n",
    "#I like to develop such functions test-driven.\n",
    "#This means I write one or multiple test cases and code until all tests pass\n",
    "#By writing this test I am already understanding better what exact problem I am trying to solve\n",
    "#So here's the test I used to write this function\n",
    "#('assert' means that if this statement isn't true, an error will be thrown) \n",
    "assert map_source_to_dest(12,15,3,16) == (13, True)\n",
    "\n",
    "\n",
    "for line in data[1:]:\n",
    "    if line == '':\n",
    "        continue\n",
    "    elif 'map:' in line:\n",
    "        #Reset all flags\n",
    "        identifiers = [(val, False) for (val, _) in identifiers]\n",
    "    else:\n",
    "        #I know this always has three elements\n",
    "        dest_range_start, source_range_start, range_length = [int(x) for x in line.split()]\n",
    "        identifiers = [map_source_to_dest(\n",
    "            dest_range_start, source_range_start, range_length, identifier)\n",
    "                       if not has_been_mapped else (identifier, has_been_mapped)\n",
    "                       for (identifier, has_been_mapped) in identifiers]\n",
    "print(min(identifier for (identifier, _) in identifiers))"
   ]
  },
  {
   "cell_type": "markdown",
   "id": "6a85702d-b7bc-4812-a019-4e9944a7175b",
   "metadata": {},
   "source": [
    "PART II:"
   ]
  },
  {
   "cell_type": "code",
   "execution_count": 64,
   "id": "a57a1df0-49ba-46f5-8480-906aee2bcb60",
   "metadata": {
    "scrolled": true
   },
   "outputs": [
    {
     "data": {
      "text/plain": [
       "['seeds: 79 14 55 13',\n",
       " '',\n",
       " 'seed-to-soil map:',\n",
       " '50 98 2',\n",
       " '52 50 48',\n",
       " '',\n",
       " 'soil-to-fertilizer map:',\n",
       " '0 15 37',\n",
       " '37 52 2',\n",
       " '39 0 15',\n",
       " '',\n",
       " 'fertilizer-to-water map:',\n",
       " '49 53 8',\n",
       " '0 11 42',\n",
       " '42 0 7',\n",
       " '57 7 4',\n",
       " '',\n",
       " 'water-to-light map:',\n",
       " '88 18 7',\n",
       " '18 25 70',\n",
       " '',\n",
       " 'light-to-temperature map:',\n",
       " '45 77 23',\n",
       " '81 45 19',\n",
       " '68 64 13',\n",
       " '',\n",
       " 'temperature-to-humidity map:',\n",
       " '0 69 1',\n",
       " '1 0 69',\n",
       " '',\n",
       " 'humidity-to-location map:',\n",
       " '60 56 37',\n",
       " '56 93 4']"
      ]
     },
     "execution_count": 64,
     "metadata": {},
     "output_type": "execute_result"
    }
   ],
   "source": [
    "data"
   ]
  },
  {
   "cell_type": "markdown",
   "id": "b6d64a03-dfb7-4f7d-ad51-fb02edeb3806",
   "metadata": {},
   "source": [
    "Case Discrimination:\n",
    "- Seed Range completely within map: Apply mapping to id start\n",
    "- Seed Range completely not within map: Do nothing\n",
    "- Seed Range overlaps on the left/right: Split into two lists, add value to the overlapping part and do nothing to the other part\n",
    "\n",
    "Test-Driven Development will really be of help here!"
   ]
  },
  {
   "cell_type": "code",
   "execution_count": 90,
   "id": "7a0e8d2b-52fa-43cf-a05a-000bf8e85578",
   "metadata": {},
   "outputs": [],
   "source": [
    "def map_source_range_to_dest_range(dest_range_start, source_range_start, range_length,\n",
    "                                   input_range_start, input_range_length):\n",
    "    if input_range_start >= source_range_start:\n",
    "        if input_range_start + input_range_length <= source_range_start + range_length:\n",
    "            #Input is completely within the map\n",
    "            return [(dest_range_start + (input_range_start - source_range_start), input_range_length, True)]\n",
    "        elif input_range_start < source_range_start + range_length:\n",
    "            #Input overlaps on the big end of the map\n",
    "            first_range = source_range_start + range_length - input_range_start\n",
    "            second_range = input_range_length - first_range\n",
    "            return [(dest_range_start + (input_range_start - source_range_start), first_range, True),\n",
    "                   (source_range_start + range_length, second_range, False)]\n",
    "        else:\n",
    "            #No overlap, input is too big for the map\n",
    "            return [(input_range_start, input_range_length, False)]\n",
    "    else:\n",
    "        if input_range_start + input_range_length >= source_range_start:\n",
    "            #Input overlaps on the small end of the map\n",
    "            first_range = source_range_start - input_range_start\n",
    "            second_range = input_range_length - first_range\n",
    "            return [(input_range_start, first_range, False), (dest_range_start, second_range, True)]\n",
    "        else:\n",
    "            #No overlap, input is too small for the map\n",
    "            return [(input_range_start, input_range_length, False)]\n",
    "\n",
    "\n",
    "\n",
    "assert map_source_range_to_dest_range(42, 5, 10, 7, 4) == [(44, 4, True)]\n",
    "assert map_source_range_to_dest_range(42, 5, 10, 1, 2) == [(1, 2, False)]\n",
    "assert map_source_range_to_dest_range(42, 5, 10, 16, 2) == [(16, 2, False)]\n",
    "assert map_source_range_to_dest_range(42, 5, 10, 14, 4) == [(51, 1, True), (15,3, False)]\n",
    "assert map_source_range_to_dest_range(42, 5, 10, 4, 4) == [(4, 1, False), (42, 3, True)]\n"
   ]
  },
  {
   "cell_type": "code",
   "execution_count": 127,
   "id": "e15ee2a0-8cb7-4d73-9d2f-d651f1cf6b5f",
   "metadata": {},
   "outputs": [
    {
     "name": "stdout",
     "output_type": "stream",
     "text": [
      "125742456\n"
     ]
    }
   ],
   "source": [
    "input = \"input.txt\"\n",
    "with open(input, 'r') as infile:\n",
    "    data = [l.strip() for l in infile.readlines()]\n",
    "seed_line = data[0].split()[1:]\n",
    "identifier_ranges = [(int(seed_line[i]), int(seed_line[i+1]), False) for i in range(0, len(seed_line), 2)]\n",
    "\n",
    "for line in data[1:]:\n",
    "    if line == '':\n",
    "        continue\n",
    "    elif 'map:' in line:\n",
    "        identifier_ranges = [(val1, val2, False) for (val1, val2, _) in identifier_ranges]\n",
    "    else:\n",
    "        dest_range_start, source_range_start, range_length = [int(x) for x in line.split()]\n",
    "        new_identifier_ranges = []\n",
    "        for (input_range_start, input_range_length, has_been_mapped) in identifier_ranges:\n",
    "            if has_been_mapped:\n",
    "                new_identifier_ranges.append((input_range_start, input_range_length, has_been_mapped))\n",
    "            else:\n",
    "                new_identifier_ranges += map_source_range_to_dest_range(\n",
    "                    dest_range_start, source_range_start, range_length, input_range_start, input_range_length)\n",
    "        identifier_ranges = new_identifier_ranges\n",
    "\n",
    "print(min(identifier for (identifier, _, _) in identifier_ranges))"
   ]
  }
 ],
 "metadata": {
  "kernelspec": {
   "display_name": "Python 3 (ipykernel)",
   "language": "python",
   "name": "python3"
  },
  "language_info": {
   "codemirror_mode": {
    "name": "ipython",
    "version": 3
   },
   "file_extension": ".py",
   "mimetype": "text/x-python",
   "name": "python",
   "nbconvert_exporter": "python",
   "pygments_lexer": "ipython3",
   "version": "3.11.5"
  }
 },
 "nbformat": 4,
 "nbformat_minor": 5
}
