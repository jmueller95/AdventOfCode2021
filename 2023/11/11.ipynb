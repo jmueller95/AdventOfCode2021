{
 "cells": [
  {
   "cell_type": "markdown",
   "id": "0f9fc08d-74a4-4c31-ac72-8d8db6827d81",
   "metadata": {},
   "source": [
    "PART I"
   ]
  },
  {
   "cell_type": "code",
   "execution_count": 1,
   "id": "15c0e83e-cc59-4f23-a635-a213024b22ff",
   "metadata": {},
   "outputs": [],
   "source": [
    "import numpy as np\n",
    "import itertools as it"
   ]
  },
  {
   "cell_type": "code",
   "execution_count": 2,
   "id": "eb7640cb-e4e7-4f18-af1c-a46b8cc63958",
   "metadata": {},
   "outputs": [],
   "source": [
    "input = \"input.txt\"\n",
    "with open(input, 'r') as infile:\n",
    "    #Today we split into characters\n",
    "    data = np.array([[c for c in l.strip()] for l in infile.readlines()])"
   ]
  },
  {
   "cell_type": "markdown",
   "id": "86b7b6fb-3b87-4a87-a1ad-b297b8a09fbf",
   "metadata": {},
   "source": [
    "Cosmic expansion:"
   ]
  },
  {
   "cell_type": "code",
   "execution_count": 3,
   "id": "76701866-6834-4728-bc18-26bc10a9537f",
   "metadata": {},
   "outputs": [],
   "source": [
    "#Rows\n",
    "data_rows_expanded = []\n",
    "for i in range(len(data)):\n",
    "    if all(data[i] == '.'):\n",
    "        data_rows_expanded.append(data[i])\n",
    "    data_rows_expanded.append(data[i])"
   ]
  },
  {
   "cell_type": "code",
   "execution_count": 4,
   "id": "a4c3915a-bffe-41b9-a158-e3d8ea17ab5c",
   "metadata": {},
   "outputs": [],
   "source": [
    "#Columns\n",
    "data_rows_expanded = np.asarray(data_rows_expanded)\n",
    "data_rows_cols_expanded_transposed = []\n",
    "for i in range(len(data_rows_expanded.T)):\n",
    "    if all(data_rows_expanded.T[i] == '.'):\n",
    "        data_rows_cols_expanded_transposed.append(data_rows_expanded.T[i])\n",
    "    data_rows_cols_expanded_transposed.append(data_rows_expanded.T[i])    "
   ]
  },
  {
   "cell_type": "code",
   "execution_count": 5,
   "id": "08331493-be18-44c2-84e5-bc2f716e1f1e",
   "metadata": {},
   "outputs": [],
   "source": [
    "data_expanded = np.asarray(data_rows_cols_expanded_transposed).T"
   ]
  },
  {
   "cell_type": "code",
   "execution_count": 6,
   "id": "3e4dc35b-93f3-4850-a8ac-360ff74f1409",
   "metadata": {},
   "outputs": [
    {
     "data": {
      "text/plain": [
       "array([['.', '#', '.', ..., '.', '.', '.'],\n",
       "       ['.', '.', '.', ..., '.', '.', '.'],\n",
       "       ['.', '.', '.', ..., '.', '.', '.'],\n",
       "       ...,\n",
       "       ['.', '.', '.', ..., '.', '.', '.'],\n",
       "       ['.', '.', '.', ..., '.', '.', '.'],\n",
       "       ['.', '.', '.', ..., '.', '.', '.']], dtype='<U1')"
      ]
     },
     "execution_count": 6,
     "metadata": {},
     "output_type": "execute_result"
    }
   ],
   "source": [
    "data_expanded"
   ]
  },
  {
   "cell_type": "markdown",
   "id": "7f9dbed9-f50c-4bf7-a8fb-fda5172f8d6c",
   "metadata": {},
   "source": [
    "Get coordinates of all galaxies"
   ]
  },
  {
   "cell_type": "code",
   "execution_count": 7,
   "id": "4b823090-7d45-4fcc-8682-88aaef81238c",
   "metadata": {},
   "outputs": [],
   "source": [
    "galaxy_coordinates = [(i,j) for i in range(len(data_expanded)) for j in range(len(data_expanded[0])) if data_expanded[i,j] == '#']"
   ]
  },
  {
   "cell_type": "markdown",
   "id": "b2a4fe11-3b2a-42c4-ae58-a663b5ee8a4e",
   "metadata": {},
   "source": [
    "Get pairwise differences and sum them all up"
   ]
  },
  {
   "cell_type": "code",
   "execution_count": 8,
   "id": "4175d54a-f450-4c49-a9cc-507ce6835598",
   "metadata": {},
   "outputs": [
    {
     "name": "stdout",
     "output_type": "stream",
     "text": [
      "10165598\n"
     ]
    }
   ],
   "source": [
    "print(sum(abs(x2-x1)+abs(y2-y1) for (x1, y1),(x2, y2) in list(it.combinations(galaxy_coordinates, 2))))"
   ]
  },
  {
   "cell_type": "markdown",
   "id": "6a85702d-b7bc-4812-a019-4e9944a7175b",
   "metadata": {},
   "source": [
    "PART II:"
   ]
  },
  {
   "cell_type": "markdown",
   "id": "eb8686d2-d4c7-4cb8-8b6c-129b3f59c4e0",
   "metadata": {},
   "source": [
    "Replace empty rows and columns by 'x'. Then collect the sequence of symbols between pairs of galaxies."
   ]
  },
  {
   "cell_type": "code",
   "execution_count": 115,
   "id": "93d07238-9c5d-42aa-8dc4-245cd1e9835e",
   "metadata": {},
   "outputs": [],
   "source": [
    "input = \"input.txt\"\n",
    "with open(input, 'r') as infile:\n",
    "    #Today we split into characters\n",
    "    data = np.array([[c for c in l.strip()] for l in infile.readlines()])"
   ]
  },
  {
   "cell_type": "markdown",
   "id": "6a5ae427-5a61-4663-aa9b-5192bcc69130",
   "metadata": {},
   "source": [
    "\"Smart\" cosmic expansion:"
   ]
  },
  {
   "cell_type": "code",
   "execution_count": 116,
   "id": "308356c7-0b2f-4c36-aed0-9987aa6715ca",
   "metadata": {},
   "outputs": [
    {
     "data": {
      "text/plain": [
       "array([['.', '#', '.', ..., '.', '.', '.'],\n",
       "       ['.', '.', '.', ..., '.', '.', '.'],\n",
       "       ['.', '.', '.', ..., '.', '.', '.'],\n",
       "       ...,\n",
       "       ['.', '.', '.', ..., '.', '.', '.'],\n",
       "       ['.', '.', '.', ..., '.', '.', '.'],\n",
       "       ['.', '.', '.', ..., '.', '.', '.']], dtype='<U1')"
      ]
     },
     "execution_count": 116,
     "metadata": {},
     "output_type": "execute_result"
    }
   ],
   "source": [
    "#Rows\n",
    "data_rows_expanded = []\n",
    "for i in range(len(data)):\n",
    "    if all(data[i] == '.'):\n",
    "        data_rows_expanded.append(['x'] * len(data[i]))\n",
    "    else:\n",
    "        data_rows_expanded.append(data[i])\n",
    "#Columns\n",
    "data_rows_expanded = np.asarray(data_rows_expanded)\n",
    "data_rows_cols_expanded_transposed = []\n",
    "for i in range(len(data_rows_expanded.T)):\n",
    "    if all(val in ['.', 'x'] for val in data_rows_expanded.T[i]):\n",
    "        data_rows_cols_expanded_transposed.append(['x'] * len(data_rows_expanded.T[i]))\n",
    "    else:\n",
    "        data_rows_cols_expanded_transposed.append(data_rows_expanded.T[i])   \n",
    "data_expanded = np.asarray(data_rows_cols_expanded_transposed).T\n",
    "data_expanded"
   ]
  },
  {
   "cell_type": "code",
   "execution_count": 117,
   "id": "48a88038-8198-491a-aaa0-df0840afec78",
   "metadata": {},
   "outputs": [],
   "source": [
    "galaxy_coordinates = [(i,j) for i in range(len(data_expanded)) for j in range(len(data_expanded[0])) if data_expanded[i,j] == '#']"
   ]
  },
  {
   "cell_type": "markdown",
   "id": "e473327c-8f1e-4342-9f02-84e2100ce734",
   "metadata": {},
   "source": [
    "Iterate over pairs, get sequence of characters on their shortest paths."
   ]
  },
  {
   "cell_type": "code",
   "execution_count": 118,
   "id": "d3a4b1ec-9d7c-4dca-9fc3-7aae6e0f7160",
   "metadata": {},
   "outputs": [],
   "source": [
    "def get_coordinate_sequence(x1, y1, x2, y2):\n",
    "    return [(x1, j) for j in it.chain(range(y1+1, y2+1, 1), range(y1-1, y2-1, -1))\n",
    "           ] + [(i, y2) for i in it.chain(range(x1+1, x2+1, 1), range(x1-1, x2-1, -1))] \n",
    "\n",
    "assert get_coordinate_sequence(0,3,1,7) == [(0,4), (0,5), (0,6), (0,7), (1,7)], get_coordinate_sequence(0,3,1,7)\n",
    "assert get_coordinate_sequence(1,7,0,3) == [(1,6), (1,5), (1,4), (1,3), (0,3)], get_coordinate_sequence(1,7,0,3)\n",
    "assert get_coordinate_sequence(1,3,0,7) == [(1,4), (1,5), (1,6), (1,7), (0,7)], get_coordinate_sequence(1,3,0,7)\n",
    "assert get_coordinate_sequence(0,7,1,3) == [(0,6), (0,5), (0,4), (0,3), (1,3)], get_coordinate_sequence(0,7,1,3)"
   ]
  },
  {
   "cell_type": "code",
   "execution_count": 120,
   "id": "95cf91c0-bb9d-4695-904a-99464491e39c",
   "metadata": {},
   "outputs": [
    {
     "name": "stdout",
     "output_type": "stream",
     "text": [
      "678728808158\n"
     ]
    }
   ],
   "source": [
    "res = 0\n",
    "for pair in it.combinations(galaxy_coordinates, 2):\n",
    "    res += sum(int(1e6) if data_expanded[x,y] == 'x' else 1 for (x,y) in get_coordinate_sequence(pair[0][0], pair[0][1], pair[1][0], pair[1][1]))\n",
    "print(res)"
   ]
  }
 ],
 "metadata": {
  "kernelspec": {
   "display_name": "Python 3 (ipykernel)",
   "language": "python",
   "name": "python3"
  },
  "language_info": {
   "codemirror_mode": {
    "name": "ipython",
    "version": 3
   },
   "file_extension": ".py",
   "mimetype": "text/x-python",
   "name": "python",
   "nbconvert_exporter": "python",
   "pygments_lexer": "ipython3",
   "version": "3.9.16"
  }
 },
 "nbformat": 4,
 "nbformat_minor": 5
}
