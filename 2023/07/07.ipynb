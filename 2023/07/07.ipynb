{
 "cells": [
  {
   "cell_type": "markdown",
   "id": "0f9fc08d-74a4-4c31-ac72-8d8db6827d81",
   "metadata": {},
   "source": [
    "PART I"
   ]
  },
  {
   "cell_type": "code",
   "execution_count": 37,
   "id": "14d8053a-8e81-4c1a-8ad1-a9096398f042",
   "metadata": {},
   "outputs": [],
   "source": [
    "from collections import Counter\n",
    "from functools import cmp_to_key"
   ]
  },
  {
   "cell_type": "markdown",
   "id": "43f98599-6312-4fe0-b360-14ff7fe120c8",
   "metadata": {},
   "source": [
    "Write function to determine the type of a hand:"
   ]
  },
  {
   "cell_type": "code",
   "execution_count": 14,
   "id": "1dd5d060-6c86-498c-a5db-de3abc920594",
   "metadata": {},
   "outputs": [],
   "source": [
    "def hand_type(hand):\n",
    "    hand_counted = sorted(Counter(hand).values())\n",
    "    if hand_counted == [5]:\n",
    "        return 7\n",
    "    elif hand_counted == [1,4]:\n",
    "        return 6\n",
    "    elif hand_counted == [2,3]:\n",
    "        return 5\n",
    "    elif hand_counted == [1,1,3]:\n",
    "        return 4\n",
    "    elif hand_counted == [1,2,2]:\n",
    "        return 3\n",
    "    elif hand_counted == [1,1,1,2]:\n",
    "        return 2\n",
    "    elif hand_counted == [1,1,1,1,1]:\n",
    "        return 1\n",
    "assert hand_type('AAAAA') == 7\n",
    "assert hand_type('AA8AA') == 6\n",
    "assert hand_type('23332') == 5\n",
    "assert hand_type('TTT98') == 4\n",
    "assert hand_type('23432') == 3\n",
    "assert hand_type('A23A4') == 2\n",
    "assert hand_type('23456') == 1"
   ]
  },
  {
   "cell_type": "markdown",
   "id": "a1cd7c78-5494-42af-bc91-906b3d0debf8",
   "metadata": {},
   "source": [
    "Write function that compares two hands:"
   ]
  },
  {
   "cell_type": "code",
   "execution_count": 30,
   "id": "a73fbaca-853d-4e11-8af3-f6b081b92767",
   "metadata": {},
   "outputs": [],
   "source": [
    "all_cards = 'AKQJT98765432'\n",
    "card_values = dict(zip(all_cards, range(len(all_cards), 0, -1)))\n",
    "\n",
    "def compare_hands(hand1, hand2):\n",
    "    if hand_type(hand1) < hand_type(hand2):\n",
    "        return -1\n",
    "    elif hand_type(hand1) > hand_type(hand2):\n",
    "        return 1\n",
    "    else:\n",
    "        values1 = [card_values[card] for card in hand1]\n",
    "        values2 = [card_values[card] for card in hand2]\n",
    "        if values1 < values2:\n",
    "            return -1\n",
    "        elif values2 > values1:\n",
    "            return 1\n",
    "        else:\n",
    "            return 0"
   ]
  },
  {
   "cell_type": "code",
   "execution_count": 56,
   "id": "eb7640cb-e4e7-4f18-af1c-a46b8cc63958",
   "metadata": {},
   "outputs": [
    {
     "name": "stdout",
     "output_type": "stream",
     "text": [
      "253205868\n"
     ]
    }
   ],
   "source": [
    "input = \"input.txt\"\n",
    "with open(input, 'r') as infile:\n",
    "    data = [l.strip() for l in infile.readlines()]\n",
    "cards_and_bids = [datum.split() for datum in  data]\n",
    "cards_and_bids.sort(key=cmp_to_key(lambda cb1, cb2: compare_hands(cb1[0], cb2[0])))\n",
    "print(sum(int(bid)*(i+1) for i,(_, bid) in enumerate(cards_and_bids)))"
   ]
  },
  {
   "cell_type": "markdown",
   "id": "6a85702d-b7bc-4812-a019-4e9944a7175b",
   "metadata": {},
   "source": [
    "PART II:"
   ]
  },
  {
   "cell_type": "markdown",
   "id": "1a31ac93-3cd3-4cb3-8993-3b4d0efa4ede",
   "metadata": {},
   "source": [
    "Rewrite comparison functions with wildcard \"J\""
   ]
  },
  {
   "cell_type": "code",
   "execution_count": 60,
   "id": "b3989ec3-ca94-42cb-a39f-cb9eea87bb38",
   "metadata": {},
   "outputs": [
    {
     "data": {
      "text/plain": [
       "'AKQT98765432'"
      ]
     },
     "execution_count": 60,
     "metadata": {},
     "output_type": "execute_result"
    }
   ],
   "source": [
    "all_cards_II = 'AKQT98765432J'\n",
    "all_cards_II[:-1]"
   ]
  },
  {
   "cell_type": "code",
   "execution_count": null,
   "id": "b867096d-935d-41e5-ad2b-3dcad3cc0141",
   "metadata": {},
   "outputs": [],
   "source": [
    "import itertools as it"
   ]
  },
  {
   "cell_type": "code",
   "execution_count": 88,
   "id": "81e4eaa1-bc3b-4d36-bee9-f15490290462",
   "metadata": {},
   "outputs": [],
   "source": [
    "def hand_type_II(hand):\n",
    "    #Try replacing every joker with every possible card, \n",
    "    #calculate the classic hand_type and take the max\n",
    "    joker_count = hand.count('J')\n",
    "    hand_without_jokers = hand.replace('J', '')\n",
    "    joker_possible_replacements = list(\n",
    "        it.permutations(all_cards_II[:-1],joker_count)\n",
    "    ) + [[card]*joker_count for card in all_cards_II[:-1]]\n",
    "    return max(hand_type(hand_without_jokers + \"\".join(repl)) for repl in joker_possible_replacements)\n",
    "assert hand_type_II('AAJAA') == 7\n",
    "assert hand_type_II('AJ8AA') == 6\n",
    "assert hand_type_II('2J332') == 5\n",
    "assert hand_type_II('TTJ98') == 4\n",
    "assert hand_type_II('23432') == 3\n",
    "assert hand_type_II('J23A4') == 2\n",
    "assert hand_type_II('23456') == 1\n",
    "assert hand_type_II('23JJ6') == 4"
   ]
  },
  {
   "cell_type": "code",
   "execution_count": 89,
   "id": "09cc62d3-4435-4639-ac77-0235ece3a8f8",
   "metadata": {},
   "outputs": [],
   "source": [
    "card_values_II = dict(zip(all_cards_II, range(len(all_cards_II), 0, -1)))\n",
    "\n",
    "def compare_hands_II(hand1, hand2):\n",
    "    if (type1 := hand_type_II(hand1)) < (type2 := hand_type_II(hand2)):\n",
    "        return -1\n",
    "    elif type1 > type2:\n",
    "        return 1\n",
    "    else:\n",
    "        values1 = [card_values_II[card] for card in hand1]\n",
    "        values2 = [card_values_II[card] for card in hand2]\n",
    "        if values1 < values2:\n",
    "            return -1\n",
    "        elif values2 > values1:\n",
    "            return 1\n",
    "        else:\n",
    "            return 0"
   ]
  },
  {
   "cell_type": "code",
   "execution_count": 91,
   "id": "7c0f383a-301f-4784-b9b7-9f2c1d25dc15",
   "metadata": {},
   "outputs": [
    {
     "name": "stdout",
     "output_type": "stream",
     "text": [
      "253907829\n"
     ]
    }
   ],
   "source": [
    "input = \"input.txt\"\n",
    "with open(input, 'r') as infile:\n",
    "    data = [l.strip() for l in infile.readlines()]\n",
    "cards_and_bids = [datum.split() for datum in data]\n",
    "cards_and_bids.sort(key=cmp_to_key(lambda cb1, cb2: compare_hands_II(cb1[0], cb2[0])))\n",
    "print(sum(int(bid)*(i+1) for i,(_, bid) in enumerate(cards_and_bids)))"
   ]
  }
 ],
 "metadata": {
  "kernelspec": {
   "display_name": "Python 3 (ipykernel)",
   "language": "python",
   "name": "python3"
  },
  "language_info": {
   "codemirror_mode": {
    "name": "ipython",
    "version": 3
   },
   "file_extension": ".py",
   "mimetype": "text/x-python",
   "name": "python",
   "nbconvert_exporter": "python",
   "pygments_lexer": "ipython3",
   "version": "3.11.5"
  }
 },
 "nbformat": 4,
 "nbformat_minor": 5
}
