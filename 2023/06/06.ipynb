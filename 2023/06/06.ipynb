{
 "cells": [
  {
   "cell_type": "markdown",
   "id": "0f9fc08d-74a4-4c31-ac72-8d8db6827d81",
   "metadata": {},
   "source": [
    "PART I"
   ]
  },
  {
   "cell_type": "code",
   "execution_count": 40,
   "id": "14d8053a-8e81-4c1a-8ad1-a9096398f042",
   "metadata": {},
   "outputs": [],
   "source": [
    "import re\n",
    "from functools import reduce"
   ]
  },
  {
   "cell_type": "markdown",
   "id": "8a87e98f-93dc-43b9-b124-3700c28b6798",
   "metadata": {},
   "source": [
    "Calculate Distance as a function of time and velocity"
   ]
  },
  {
   "cell_type": "code",
   "execution_count": 6,
   "id": "d62bddd2-45cc-4f38-abc4-e7a28a9d15cd",
   "metadata": {},
   "outputs": [],
   "source": [
    "d = lambda t, v: v * (t-v)"
   ]
  },
  {
   "cell_type": "code",
   "execution_count": 19,
   "id": "8b164ab3-9cda-4bca-93c6-3106ed73d466",
   "metadata": {},
   "outputs": [
    {
     "data": {
      "text/plain": [
       "True"
      ]
     },
     "execution_count": 19,
     "metadata": {},
     "output_type": "execute_result"
    }
   ],
   "source": [
    "d(9,8) == d(9,1)"
   ]
  },
  {
   "cell_type": "markdown",
   "id": "b740e962-8ac9-47a2-9163-e9ad1e63d303",
   "metadata": {},
   "source": [
    "It's always symmetric, so you just need to find the minimum number to win."
   ]
  },
  {
   "cell_type": "markdown",
   "id": "15d1f3a2-912e-411b-93be-f9e4b696b9b2",
   "metadata": {},
   "source": [
    "So \n",
    "```\n",
    "v * (t-v) > D  <==>\n",
    "-1*v^2 + t*v - D > 0 <==>\n",
    "(-t +- sqrt(t^2 - 4D))/-2 > v <==>\n",
    "t/2 +- sqrt(t^2 - 4D)/2 > v\n",
    "```"
   ]
  },
  {
   "cell_type": "markdown",
   "id": "06b86a11-22ce-4db3-bf2f-6c08e9f8972c",
   "metadata": {},
   "source": [
    "We need the next integer that is bigger, so plus one and then round down (using the `int` function)"
   ]
  },
  {
   "cell_type": "code",
   "execution_count": 25,
   "id": "da73dafe-95e2-454d-bfb3-a1ff01283ee2",
   "metadata": {},
   "outputs": [],
   "source": [
    "minv = lambda t, D: int(t/2 - ((t**2 - 4*D)**(1/2))/2 + 1)"
   ]
  },
  {
   "cell_type": "code",
   "execution_count": 28,
   "id": "a7c4521f-8a44-4e34-ab80-a4df06307867",
   "metadata": {},
   "outputs": [
    {
     "data": {
      "text/plain": [
       "2"
      ]
     },
     "execution_count": 28,
     "metadata": {},
     "output_type": "execute_result"
    }
   ],
   "source": [
    "minv(7,9)"
   ]
  },
  {
   "cell_type": "markdown",
   "id": "d3f0d3ce-b3de-4a1a-9601-ee5386409604",
   "metadata": {},
   "source": [
    "The solution is then `t + 1 - 2*m`, `m` being the previously calculated minimum.  \n",
    "So here's the full solution:"
   ]
  },
  {
   "cell_type": "code",
   "execution_count": 48,
   "id": "2e8e38c1-1430-4fdd-8e8d-4e2fdb9f236b",
   "metadata": {
    "scrolled": true
   },
   "outputs": [
    {
     "name": "stdout",
     "output_type": "stream",
     "text": [
      "1083852\n"
     ]
    }
   ],
   "source": [
    "input = \"input.txt\"\n",
    "with open(input, 'r') as infile:\n",
    "    data = [l.strip() for l in infile.readlines()]\n",
    "times = [int(x) for x in re.findall('\\d+',data[0])]\n",
    "distances = [int(x) for x in re.findall('\\d+',data[1])]\n",
    "minvs = [minv(t, D) for t, D in zip(times, distances)]\n",
    "nsolutions = [t+1-2*m for t, m in zip(times, minvs)]\n",
    "print(reduce(lambda x, y: x*y, nsolutions))"
   ]
  },
  {
   "cell_type": "markdown",
   "id": "6a85702d-b7bc-4812-a019-4e9944a7175b",
   "metadata": {},
   "source": [
    "PART II:"
   ]
  },
  {
   "cell_type": "markdown",
   "id": "f7924b96-de4c-414a-b688-14907b878c06",
   "metadata": {},
   "source": [
    "Okay this is surprisingly easy..."
   ]
  },
  {
   "cell_type": "code",
   "execution_count": 53,
   "id": "b2c1ca90-7142-48fc-a3d0-eafd08c234e5",
   "metadata": {},
   "outputs": [
    {
     "name": "stdout",
     "output_type": "stream",
     "text": [
      "23501589\n"
     ]
    }
   ],
   "source": [
    "input = \"input.txt\"\n",
    "with open(input, 'r') as infile:\n",
    "    data = [l.strip() for l in infile.readlines()]\n",
    "time = int(''.join(re.findall('\\d+',data[0])))\n",
    "distance = int(''.join(re.findall('\\d+',data[1])))\n",
    "minv = minv(time, distance)\n",
    "nsolution = time+1-2*minv\n",
    "print(nsolution)"
   ]
  }
 ],
 "metadata": {
  "kernelspec": {
   "display_name": "Python 3 (ipykernel)",
   "language": "python",
   "name": "python3"
  },
  "language_info": {
   "codemirror_mode": {
    "name": "ipython",
    "version": 3
   },
   "file_extension": ".py",
   "mimetype": "text/x-python",
   "name": "python",
   "nbconvert_exporter": "python",
   "pygments_lexer": "ipython3",
   "version": "3.9.16"
  }
 },
 "nbformat": 4,
 "nbformat_minor": 5
}
