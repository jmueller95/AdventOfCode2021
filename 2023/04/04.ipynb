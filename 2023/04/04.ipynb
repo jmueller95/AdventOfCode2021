{
 "cells": [
  {
   "cell_type": "markdown",
   "id": "0f9fc08d-74a4-4c31-ac72-8d8db6827d81",
   "metadata": {},
   "source": [
    "PART I"
   ]
  },
  {
   "cell_type": "code",
   "execution_count": 32,
   "id": "2e8e38c1-1430-4fdd-8e8d-4e2fdb9f236b",
   "metadata": {},
   "outputs": [
    {
     "name": "stdout",
     "output_type": "stream",
     "text": [
      "13\n"
     ]
    }
   ],
   "source": [
    "input = \"input_small.txt\"\n",
    "with open(input, 'r') as infile:\n",
    "    data = [l.strip() for l in infile.readlines()]\n",
    "result = 0\n",
    "for card in data:\n",
    "    winning_string, my_string = card[card.index(':')+1:].split('|')\n",
    "    winning_numbers = set(int(x) for x in winning_string.strip().split(' ') if x)\n",
    "    my_numbers = set(int(x) for x in my_string.strip().split(' ') if x)\n",
    "    my_winning_numbers = winning_numbers.intersection(my_numbers)\n",
    "    if len(my_winning_numbers) > 0:\n",
    "        result += 2**(len(my_winning_numbers) - 1)\n",
    "print(result)"
   ]
  },
  {
   "cell_type": "markdown",
   "id": "6a85702d-b7bc-4812-a019-4e9944a7175b",
   "metadata": {},
   "source": [
    "PART II:"
   ]
  },
  {
   "cell_type": "markdown",
   "id": "7f9d48fd-0593-4589-b607-76a2391be429",
   "metadata": {},
   "source": [
    "I can be sure that no card can win me a copy of a card with a smaller number. So if I process them in ascending order, then I cannot miss any copies.  \n",
    "So i just keep a dictionary mapping each card number to the number of copies I get of this card.  "
   ]
  },
  {
   "cell_type": "code",
   "execution_count": 74,
   "id": "98e82f0f-ce4f-4649-9b2c-b50f931ff343",
   "metadata": {},
   "outputs": [
    {
     "name": "stdout",
     "output_type": "stream",
     "text": [
      "5920640\n"
     ]
    }
   ],
   "source": [
    "import re\n",
    "input = \"input.txt\"\n",
    "with open(input, 'r') as infile:\n",
    "    data = [l.strip() for l in infile.readlines()]\n",
    "#Initialize the dictionary to have value '1' for all cards\n",
    "copies_per_card = {i+1: 1 for i in range(len(data))}\n",
    "for card in data:\n",
    "    card_number = int(re.search('\\d+', card).group())\n",
    "    winning_string, my_string = card[card.index(':')+1:].split('|')\n",
    "    winning_numbers = set(int(x) for x in winning_string.strip().split(' ') if x)\n",
    "    my_numbers = set(int(x) for x in my_string.strip().split(' ') if x)\n",
    "    my_winning_numbers = winning_numbers.intersection(my_numbers)\n",
    "    cards_to_copy = [card_number + i+1 for i in range(len(my_winning_numbers))]\n",
    "    for card_to_copy in cards_to_copy:\n",
    "        #Add as many copies to the next cards as we have copies of the current card\n",
    "        copies_per_card[card_to_copy] += copies_per_card[card_number]\n",
    "print(sum(copies_per_card.values()))"
   ]
  }
 ],
 "metadata": {
  "kernelspec": {
   "display_name": "Python 3 (ipykernel)",
   "language": "python",
   "name": "python3"
  },
  "language_info": {
   "codemirror_mode": {
    "name": "ipython",
    "version": 3
   },
   "file_extension": ".py",
   "mimetype": "text/x-python",
   "name": "python",
   "nbconvert_exporter": "python",
   "pygments_lexer": "ipython3",
   "version": "3.9.16"
  }
 },
 "nbformat": 4,
 "nbformat_minor": 5
}
