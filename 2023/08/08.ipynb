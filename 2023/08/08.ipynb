{
 "cells": [
  {
   "cell_type": "markdown",
   "id": "0f9fc08d-74a4-4c31-ac72-8d8db6827d81",
   "metadata": {},
   "source": [
    "PART I"
   ]
  },
  {
   "cell_type": "code",
   "execution_count": 7,
   "id": "edd2a19b-d8ca-43f7-bd8b-08462adc67a5",
   "metadata": {},
   "outputs": [],
   "source": [
    "import re"
   ]
  },
  {
   "cell_type": "code",
   "execution_count": 18,
   "id": "eb7640cb-e4e7-4f18-af1c-a46b8cc63958",
   "metadata": {},
   "outputs": [
    {
     "name": "stdout",
     "output_type": "stream",
     "text": [
      "19667\n"
     ]
    }
   ],
   "source": [
    "input = \"input.txt\"\n",
    "with open(input, 'r') as infile:\n",
    "    data = [l.strip() for l in infile.readlines()]\n",
    "instructions = data[0]\n",
    "map = dict()\n",
    "for datum in data[2:]:\n",
    "    key, left, right = re.findall('\\w{3}', datum)\n",
    "    map[key] = (left, right)\n",
    "current_location = 'AAA'\n",
    "n_steps = 0\n",
    "index = 0\n",
    "while current_location != 'ZZZ':\n",
    "    if instructions[index] == 'L':\n",
    "        current_location = map[current_location][0]\n",
    "    else:\n",
    "        current_location = map[current_location][1]\n",
    "    n_steps += 1\n",
    "    index += 1\n",
    "    if index == len(instructions):\n",
    "        index = 0\n",
    "print(n_steps)"
   ]
  },
  {
   "cell_type": "markdown",
   "id": "6a85702d-b7bc-4812-a019-4e9944a7175b",
   "metadata": {},
   "source": [
    "PART II:"
   ]
  },
  {
   "cell_type": "code",
   "execution_count": 37,
   "id": "7c0f383a-301f-4784-b9b7-9f2c1d25dc15",
   "metadata": {},
   "outputs": [],
   "source": [
    "input = \"input.txt\"\n",
    "with open(input, 'r') as infile:\n",
    "    data = [l.strip() for l in infile.readlines()]\n",
    "instructions = data[0]\n",
    "map = dict()\n",
    "for datum in data[2:]:\n",
    "    key, left, right = re.findall('\\w{3}', datum)\n",
    "    map[key] = (left, right)"
   ]
  },
  {
   "cell_type": "code",
   "execution_count": 40,
   "id": "a4f960c3-02d0-4939-b89c-7be1e89c828d",
   "metadata": {
    "scrolled": true
   },
   "outputs": [
    {
     "ename": "KeyboardInterrupt",
     "evalue": "",
     "output_type": "error",
     "traceback": [
      "\u001b[1;31m---------------------------------------------------------------------------\u001b[0m",
      "\u001b[1;31mKeyboardInterrupt\u001b[0m                         Traceback (most recent call last)",
      "Cell \u001b[1;32mIn[40], line 4\u001b[0m\n\u001b[0;32m      2\u001b[0m n_steps \u001b[38;5;241m=\u001b[39m \u001b[38;5;241m0\u001b[39m\n\u001b[0;32m      3\u001b[0m index \u001b[38;5;241m=\u001b[39m \u001b[38;5;241m0\u001b[39m\n\u001b[1;32m----> 4\u001b[0m \u001b[38;5;28;01mwhile\u001b[39;00m \u001b[38;5;129;01mnot\u001b[39;00m \u001b[38;5;28mall\u001b[39m(loc\u001b[38;5;241m.\u001b[39mendswith(\u001b[38;5;124m'\u001b[39m\u001b[38;5;124mZ\u001b[39m\u001b[38;5;124m'\u001b[39m) \u001b[38;5;28;01mfor\u001b[39;00m loc \u001b[38;5;129;01min\u001b[39;00m current_locations):\n\u001b[0;32m      5\u001b[0m     \u001b[38;5;28;01mif\u001b[39;00m instructions[index] \u001b[38;5;241m==\u001b[39m \u001b[38;5;124m'\u001b[39m\u001b[38;5;124mL\u001b[39m\u001b[38;5;124m'\u001b[39m:\n\u001b[0;32m      6\u001b[0m         current_locations \u001b[38;5;241m=\u001b[39m [\u001b[38;5;28mmap\u001b[39m[loc][\u001b[38;5;241m0\u001b[39m] \u001b[38;5;28;01mfor\u001b[39;00m loc \u001b[38;5;129;01min\u001b[39;00m current_locations]\n",
      "\u001b[1;31mKeyboardInterrupt\u001b[0m: "
     ]
    }
   ],
   "source": [
    "current_locations = [loc for loc in map.keys() if loc.endswith('A')]\n",
    "n_steps = 0\n",
    "index = 0\n",
    "while not all(loc.endswith('Z') for loc in current_locations):\n",
    "    if instructions[index] == 'L':\n",
    "        current_locations = [map[loc][0] for loc in current_locations]\n",
    "    else:\n",
    "        current_locations = [map[loc][1] for loc in current_locations]\n",
    "    n_steps += 1\n",
    "    index += 1\n",
    "    if index == len(instructions):\n",
    "        index = 0\n",
    "print(n_steps)"
   ]
  },
  {
   "cell_type": "code",
   "execution_count": 46,
   "id": "d680a895-bea1-46aa-9606-e04075aaabab",
   "metadata": {},
   "outputs": [
    {
     "data": {
      "text/plain": [
       "[('TSA', ('DJG', 'MFF')),\n",
       " ('JTA', ('TKF', 'RXS')),\n",
       " ('BLA', ('XPM', 'CFT')),\n",
       " ('NBA', ('VPP', 'GCL')),\n",
       " ('AAA', ('MRC', 'BFN')),\n",
       " ('QXA', ('GBB', 'VXV'))]"
      ]
     },
     "execution_count": 46,
     "metadata": {},
     "output_type": "execute_result"
    }
   ],
   "source": [
    "[(loc, map[loc]) for loc in map.keys() if loc.endswith('A')]"
   ]
  },
  {
   "cell_type": "code",
   "execution_count": 45,
   "id": "568daeb9-eb6e-46dc-8069-49c01dd80760",
   "metadata": {},
   "outputs": [
    {
     "data": {
      "text/plain": [
       "[('VKZ', ('GCL', 'VPP')),\n",
       " ('KRZ', ('CFT', 'XPM')),\n",
       " ('NVZ', ('RXS', 'TKF')),\n",
       " ('SGZ', ('VXV', 'GBB')),\n",
       " ('BSZ', ('MFF', 'DJG')),\n",
       " ('ZZZ', ('BFN', 'MRC'))]"
      ]
     },
     "execution_count": 45,
     "metadata": {},
     "output_type": "execute_result"
    }
   ],
   "source": [
    "[(loc, map[loc]) for loc in map.keys() if loc.endswith('Z')]"
   ]
  },
  {
   "cell_type": "markdown",
   "id": "2bbc4b09-347f-4e70-8e71-905e5eeaf535",
   "metadata": {},
   "source": [
    "okay, looks like they are 'made for each other'.  \n",
    "So, shot in the dark: Calculate them individually and take the smallest common multiple."
   ]
  },
  {
   "cell_type": "code",
   "execution_count": 51,
   "id": "fe4f905d-ec29-4b86-a2da-7f9f96d6a1ba",
   "metadata": {},
   "outputs": [],
   "source": [
    "current_locations = [loc for loc in map.keys() if loc.endswith('A')]\n",
    "n_stepss = [0 for _ in current_locations]\n",
    "for i, loc in enumerate(current_locations):\n",
    "    n_steps = 0\n",
    "    index = 0\n",
    "    while not loc.endswith('Z'):\n",
    "        if instructions[index] == 'L':\n",
    "            loc = map[loc][0]\n",
    "        else:\n",
    "            loc = map[loc][1]\n",
    "        n_steps += 1\n",
    "        index += 1\n",
    "        if index == len(instructions):\n",
    "            index = 0\n",
    "    n_stepss[i] = n_steps"
   ]
  },
  {
   "cell_type": "code",
   "execution_count": 52,
   "id": "107e5bc5-b7bf-4ef7-8ad3-d574332659d0",
   "metadata": {},
   "outputs": [],
   "source": [
    "import math"
   ]
  },
  {
   "cell_type": "code",
   "execution_count": 54,
   "id": "72b262f2-b924-432a-8eda-b88d36b13a5e",
   "metadata": {},
   "outputs": [
    {
     "data": {
      "text/plain": [
       "19185263738117"
      ]
     },
     "execution_count": 54,
     "metadata": {},
     "output_type": "execute_result"
    }
   ],
   "source": [
    "math.lcm(*n_stepss)"
   ]
  },
  {
   "cell_type": "markdown",
   "id": "4907adf2-ed5b-462f-bc75-acc2fce991ab",
   "metadata": {},
   "source": [
    "Worked. Not sure how to prove this but I don't care, I'm happy."
   ]
  }
 ],
 "metadata": {
  "kernelspec": {
   "display_name": "Python 3 (ipykernel)",
   "language": "python",
   "name": "python3"
  },
  "language_info": {
   "codemirror_mode": {
    "name": "ipython",
    "version": 3
   },
   "file_extension": ".py",
   "mimetype": "text/x-python",
   "name": "python",
   "nbconvert_exporter": "python",
   "pygments_lexer": "ipython3",
   "version": "3.11.5"
  }
 },
 "nbformat": 4,
 "nbformat_minor": 5
}
