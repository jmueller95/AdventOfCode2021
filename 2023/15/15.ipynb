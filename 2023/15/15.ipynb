{
 "cells": [
  {
   "cell_type": "markdown",
   "id": "0f9fc08d-74a4-4c31-ac72-8d8db6827d81",
   "metadata": {},
   "source": [
    "PART I"
   ]
  },
  {
   "cell_type": "code",
   "execution_count": 11,
   "id": "8ec7a80d-6cea-4b85-b00f-14d18825a499",
   "metadata": {},
   "outputs": [],
   "source": [
    "from functools import reduce"
   ]
  },
  {
   "cell_type": "code",
   "execution_count": 25,
   "id": "9b73994d-7693-480c-9676-5f46d8344cb6",
   "metadata": {},
   "outputs": [],
   "source": [
    "input = \"input.txt\"\n",
    "with open(input, 'r') as infile:\n",
    "    data = infile.readline().strip()"
   ]
  },
  {
   "cell_type": "code",
   "execution_count": 27,
   "id": "e2b320fc-194a-48cc-bc34-bf7655545ede",
   "metadata": {},
   "outputs": [],
   "source": [
    "HASH = lambda s: reduce(lambda a,b: ((a+ord(b))*17)%256, s, 0)\n",
    "assert HASH('HASH') == 52"
   ]
  },
  {
   "cell_type": "code",
   "execution_count": 28,
   "id": "a9394011-872f-4f62-a6a8-8aaedd854930",
   "metadata": {},
   "outputs": [
    {
     "data": {
      "text/plain": [
       "508498"
      ]
     },
     "execution_count": 28,
     "metadata": {},
     "output_type": "execute_result"
    }
   ],
   "source": [
    "sum(HASH(s) for s in data.split(','))"
   ]
  },
  {
   "cell_type": "markdown",
   "id": "6a85702d-b7bc-4812-a019-4e9944a7175b",
   "metadata": {},
   "source": [
    "PART II:"
   ]
  },
  {
   "cell_type": "code",
   "execution_count": 35,
   "id": "53e42256-b0b3-4348-9e36-47e6eb26265c",
   "metadata": {},
   "outputs": [],
   "source": [
    "from collections import defaultdict\n",
    "import re"
   ]
  },
  {
   "cell_type": "code",
   "execution_count": 51,
   "id": "0f7e43c2-8fa1-4564-848d-b79201969b68",
   "metadata": {},
   "outputs": [],
   "source": [
    "s = 'rnx=1'\n",
    "labelmatch = re.search('\\w+', s)"
   ]
  },
  {
   "cell_type": "code",
   "execution_count": 52,
   "id": "1586715b-a69d-43bb-9898-65a724ebeb09",
   "metadata": {},
   "outputs": [
    {
     "data": {
      "text/plain": [
       "'='"
      ]
     },
     "execution_count": 52,
     "metadata": {},
     "output_type": "execute_result"
    }
   ],
   "source": [
    "s[labelmatch.end()]"
   ]
  },
  {
   "cell_type": "code",
   "execution_count": 53,
   "id": "eaacf9e5-187c-451f-85cb-6a8d9009eeef",
   "metadata": {},
   "outputs": [
    {
     "data": {
      "text/plain": [
       "'rnx=1'"
      ]
     },
     "execution_count": 53,
     "metadata": {},
     "output_type": "execute_result"
    }
   ],
   "source": [
    "s"
   ]
  },
  {
   "cell_type": "code",
   "execution_count": 86,
   "id": "7d4c1b3b-692e-4c3c-aa88-f1d05443623f",
   "metadata": {},
   "outputs": [],
   "source": [
    "def process_string(s):\n",
    "    labelmatch = re.search('\\w+', s)\n",
    "    label = labelmatch.group()\n",
    "    labelhash = HASH(label)\n",
    "    operator = s[labelmatch.end()]\n",
    "    if operator == '=':\n",
    "        focal_length = int(s[-1])\n",
    "        for i, lens in enumerate(boxes[labelhash]):\n",
    "            if lens[0] == label:\n",
    "                boxes[labelhash][i] = (label, focal_length)\n",
    "                break\n",
    "        else:\n",
    "            boxes[labelhash].append((label, focal_length))\n",
    "    elif operator == '-':\n",
    "        for index, lens in enumerate(boxes[labelhash]):\n",
    "            if lens[0] == label:\n",
    "                boxes[labelhash].pop(index)\n",
    "                break"
   ]
  },
  {
   "cell_type": "code",
   "execution_count": 93,
   "id": "bca7fee7-5674-449a-a8ee-cd3fdbd015c4",
   "metadata": {},
   "outputs": [],
   "source": [
    "input = \"input.txt\"\n",
    "with open(input, 'r') as infile:\n",
    "    data = infile.readline().strip()"
   ]
  },
  {
   "cell_type": "code",
   "execution_count": 94,
   "id": "21b56451-c984-4362-8bc1-b8afd14d260e",
   "metadata": {},
   "outputs": [],
   "source": [
    "boxes = defaultdict(list)"
   ]
  },
  {
   "cell_type": "code",
   "execution_count": 95,
   "id": "f977ffab-01a7-45b1-8567-57b1af542994",
   "metadata": {},
   "outputs": [],
   "source": [
    "for s in data.split(','):\n",
    "    process_string(s)"
   ]
  },
  {
   "cell_type": "code",
   "execution_count": 96,
   "id": "6abd73a7-a418-43f6-b0fa-7117cd01ee3b",
   "metadata": {},
   "outputs": [
    {
     "data": {
      "text/plain": [
       "279116"
      ]
     },
     "execution_count": 96,
     "metadata": {},
     "output_type": "execute_result"
    }
   ],
   "source": [
    "#Now just add up the focusing power\n",
    "res = sum(((1 + box_number) * index * focal_length) for box_number, lenses in boxes.items() for  index, (lens_label, focal_length) in enumerate(lenses,1))\n",
    "res"
   ]
  }
 ],
 "metadata": {
  "kernelspec": {
   "display_name": "Python 3 (ipykernel)",
   "language": "python",
   "name": "python3"
  },
  "language_info": {
   "codemirror_mode": {
    "name": "ipython",
    "version": 3
   },
   "file_extension": ".py",
   "mimetype": "text/x-python",
   "name": "python",
   "nbconvert_exporter": "python",
   "pygments_lexer": "ipython3",
   "version": "3.9.16"
  }
 },
 "nbformat": 4,
 "nbformat_minor": 5
}
