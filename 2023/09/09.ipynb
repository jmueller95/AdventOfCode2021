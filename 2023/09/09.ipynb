{
 "cells": [
  {
   "cell_type": "code",
   "execution_count": 12,
   "id": "1d5755c7-c5e2-4090-816a-68c36e1fcf81",
   "metadata": {},
   "outputs": [],
   "source": [
    "from functools import reduce"
   ]
  },
  {
   "cell_type": "markdown",
   "id": "0f9fc08d-74a4-4c31-ac72-8d8db6827d81",
   "metadata": {},
   "source": [
    "PART I"
   ]
  },
  {
   "cell_type": "code",
   "execution_count": 28,
   "id": "eb7640cb-e4e7-4f18-af1c-a46b8cc63958",
   "metadata": {},
   "outputs": [],
   "source": [
    "input = \"input.txt\"\n",
    "with open(input, 'r') as infile:\n",
    "    data = [l.strip() for l in infile.readlines()]"
   ]
  },
  {
   "cell_type": "code",
   "execution_count": 29,
   "id": "ea1f8412-61ff-4282-aedc-929b54279fea",
   "metadata": {},
   "outputs": [
    {
     "data": {
      "text/plain": [
       "1884768153"
      ]
     },
     "execution_count": 29,
     "metadata": {},
     "output_type": "execute_result"
    }
   ],
   "source": [
    "res = 0\n",
    "for line in data:\n",
    "    values = [int(n) for n in line.split()]\n",
    "    diffs = [values]\n",
    "    while not all(v == 0 for v in values):\n",
    "        values = [b-a for a,b in zip(values, values[1:])]\n",
    "        diffs = [values] + diffs\n",
    "    res += reduce(lambda a,b: a + b[-1], diffs, 0)\n",
    "res"
   ]
  },
  {
   "cell_type": "markdown",
   "id": "6a85702d-b7bc-4812-a019-4e9944a7175b",
   "metadata": {},
   "source": [
    "PART II:"
   ]
  },
  {
   "cell_type": "code",
   "execution_count": 32,
   "id": "21749205-bdac-4415-9306-143bab93f54b",
   "metadata": {},
   "outputs": [],
   "source": [
    "input = \"input.txt\"\n",
    "with open(input, 'r') as infile:\n",
    "    data = [l.strip() for l in infile.readlines()]"
   ]
  },
  {
   "cell_type": "code",
   "execution_count": 33,
   "id": "c6546a56-4340-4652-9147-e1407fc41981",
   "metadata": {},
   "outputs": [
    {
     "data": {
      "text/plain": [
       "1031"
      ]
     },
     "execution_count": 33,
     "metadata": {},
     "output_type": "execute_result"
    }
   ],
   "source": [
    "res = 0\n",
    "for line in data:\n",
    "    values = [int(n) for n in line.split()]\n",
    "    diffs = [values]\n",
    "    while not all(v == 0 for v in values):\n",
    "        values = [b-a for a,b in zip(values, values[1:])]\n",
    "        diffs = [values] + diffs\n",
    "    res += reduce(lambda a,b: b[0] - a, diffs, 0)\n",
    "res"
   ]
  }
 ],
 "metadata": {
  "kernelspec": {
   "display_name": "Python 3 (ipykernel)",
   "language": "python",
   "name": "python3"
  },
  "language_info": {
   "codemirror_mode": {
    "name": "ipython",
    "version": 3
   },
   "file_extension": ".py",
   "mimetype": "text/x-python",
   "name": "python",
   "nbconvert_exporter": "python",
   "pygments_lexer": "ipython3",
   "version": "3.11.5"
  }
 },
 "nbformat": 4,
 "nbformat_minor": 5
}
