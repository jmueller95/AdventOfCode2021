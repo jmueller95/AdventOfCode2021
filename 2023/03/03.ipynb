{
 "cells": [
  {
   "cell_type": "markdown",
   "id": "0f9fc08d-74a4-4c31-ac72-8d8db6827d81",
   "metadata": {},
   "source": [
    "PART I"
   ]
  },
  {
   "cell_type": "code",
   "execution_count": 66,
   "id": "2e8e38c1-1430-4fdd-8e8d-4e2fdb9f236b",
   "metadata": {},
   "outputs": [],
   "source": [
    "input = \"input.txt\"\n",
    "with open(input, 'r') as infile:\n",
    "    data = [l.strip() for l in infile.readlines()]"
   ]
  },
  {
   "cell_type": "markdown",
   "id": "15599b57-4155-4130-a884-245ba7e7ad0d",
   "metadata": {},
   "source": [
    "Idea: Search for the numbers in the input, then check the neighbourhood of each number for a symbol."
   ]
  },
  {
   "cell_type": "code",
   "execution_count": 67,
   "id": "9926d425-332f-4957-b76b-79947ae2ac1a",
   "metadata": {
    "scrolled": true,
    "tags": []
   },
   "outputs": [],
   "source": [
    "result = 0\n",
    "current_number_string = ''\n",
    "for i, row in enumerate(data):\n",
    "    for j, character in enumerate(row):\n",
    "        if character.isdigit():\n",
    "            if len(current_number_string) == 0:\n",
    "                current_number_start = j\n",
    "            current_number_string += character\n",
    "        #Argh, this took me a while! \n",
    "        #Line endings can also terminate a number, hence the second condition.\n",
    "        if not character.isdigit() or j==len(row)-1:\n",
    "            if len(current_number_string)>0:\n",
    "                current_number_end = j\n",
    "                found_symbol = False\n",
    "                #This nested for-loop checks all cells around our current number\n",
    "                #If you don't see why I have to use these exact indices, \n",
    "                #it helps to insert a few 'print' statements \n",
    "                #to visualize what range of cells the loop is scanning through\n",
    "                for i2 in range(max(i-1,0), min(i+2,len(data))):\n",
    "                    for j2 in range(max(current_number_start-1,0), \n",
    "                                    min(current_number_end+1,len(row))):\n",
    "                        if data[i2][j2] != '.' and not data[i2][j2].isdigit():\n",
    "                            found_symbol = True\n",
    "                if found_symbol:\n",
    "                    result += int(current_number_string)\n",
    "            current_number_string = ''"
   ]
  },
  {
   "cell_type": "code",
   "execution_count": 49,
   "id": "43bbe162-0488-4a33-8e42-ceca819ee76c",
   "metadata": {},
   "outputs": [
    {
     "data": {
      "text/plain": [
       "532331"
      ]
     },
     "execution_count": 49,
     "metadata": {},
     "output_type": "execute_result"
    }
   ],
   "source": [
    "result"
   ]
  },
  {
   "cell_type": "markdown",
   "id": "6a85702d-b7bc-4812-a019-4e9944a7175b",
   "metadata": {},
   "source": [
    "PART II:"
   ]
  },
  {
   "cell_type": "code",
   "execution_count": 72,
   "id": "cbcbe17d-ce94-4068-81e7-70e066fc4ef7",
   "metadata": {},
   "outputs": [],
   "source": [
    "from collections import defaultdict"
   ]
  },
  {
   "cell_type": "code",
   "execution_count": 68,
   "id": "bfe9f982-6616-4624-aa6d-7fab2a92498f",
   "metadata": {
    "scrolled": true,
    "tags": []
   },
   "outputs": [],
   "source": [
    "#I found a 'gear-centric' search tricky to implement.\n",
    "#So I tried to make do with what I already have: the 'number-centric' search from part one\n",
    "#Of course, then I need to keep track of the gears that I already found numbers for\n",
    "#So I keep a dictionary that maps gears (encoded by their coordinates) to their list of surrounding numbers\n",
    "gears_map = defaultdict(list)\n",
    "#The nice thing is that now I can copy most of my code from part I:\n",
    "current_number_string = ''\n",
    "for i, row in enumerate(data):\n",
    "    for j, character in enumerate(row):\n",
    "        if character.isdigit():\n",
    "            if len(current_number_string) == 0:\n",
    "                current_number_start = j\n",
    "            current_number_string += character\n",
    "        if not character.isdigit() or j==len(row)-1:\n",
    "            if len(current_number_string)>0:\n",
    "                current_number_end = j\n",
    "                for i2 in range(max(i-1,0), min(i+2,len(data))):\n",
    "                    for j2 in range(max(current_number_start-1,0), \n",
    "                                    min(current_number_end+1,len(row))):\n",
    "                        #Instead of any symbol we now just search for a gear\n",
    "                        if data[i2][j2]=='*':\n",
    "                            #Append the number to the list for this gear\n",
    "                            gears_map[(i2, j2)].append(int(current_number_string))\n",
    "            current_number_string = ''"
   ]
  },
  {
   "cell_type": "code",
   "execution_count": 69,
   "id": "db400597-fa51-46ab-931a-5a593cb9c385",
   "metadata": {},
   "outputs": [],
   "source": [
    "#Now we need to filter the map for gears that have exactly two surrounding numbers\n",
    "#Then multiply these numbers, and then sum this up\n",
    "#This can all be done in one comprehension\n",
    "res = sum(gear_number_list[0]*gear_number_list[1] for gear_number_list in gears_map.values() if len(gear_number_list) == 2)"
   ]
  },
  {
   "cell_type": "code",
   "execution_count": 71,
   "id": "c3793e25-e48e-4f33-b7ae-4ca7b6e919ad",
   "metadata": {},
   "outputs": [
    {
     "name": "stdout",
     "output_type": "stream",
     "text": [
      "82301120\n"
     ]
    }
   ],
   "source": [
    "print(res)"
   ]
  },
  {
   "cell_type": "markdown",
   "id": "f17e419c-de03-4877-9b20-56d0e113e3f2",
   "metadata": {},
   "source": [
    "If anyone has done it 'gear-centric' instead, please post! It's possible for sure."
   ]
  }
 ],
 "metadata": {
  "kernelspec": {
   "display_name": "Python 3 (ipykernel)",
   "language": "python",
   "name": "python3"
  },
  "language_info": {
   "codemirror_mode": {
    "name": "ipython",
    "version": 3
   },
   "file_extension": ".py",
   "mimetype": "text/x-python",
   "name": "python",
   "nbconvert_exporter": "python",
   "pygments_lexer": "ipython3",
   "version": "3.11.5"
  }
 },
 "nbformat": 4,
 "nbformat_minor": 5
}
