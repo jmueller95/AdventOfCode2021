{
 "cells": [
  {
   "cell_type": "markdown",
   "id": "0f9fc08d-74a4-4c31-ac72-8d8db6827d81",
   "metadata": {},
   "source": [
    "PART I"
   ]
  },
  {
   "cell_type": "code",
   "execution_count": 1,
   "id": "2e8e38c1-1430-4fdd-8e8d-4e2fdb9f236b",
   "metadata": {},
   "outputs": [],
   "source": [
    "input = \"input.txt\"\n",
    "with open(input, 'r') as infile:\n",
    "    data = [l.strip() for l in infile.readlines()]\n",
    "digits = []\n",
    "current_number = \"\"\n",
    "for line in data:\n",
    "    for letter in line:\n",
    "        if letter.isdigit():\n",
    "            current_number += letter\n",
    "            break\n",
    "    for letter in line[::-1]:\n",
    "        if letter.isdigit():\n",
    "            current_number += letter\n",
    "            break\n",
    "    digits.append(int(current_number))\n",
    "    current_number = \"\" "
   ]
  },
  {
   "cell_type": "code",
   "execution_count": 2,
   "id": "8bd7b074-a391-4652-bea5-fe77393b7d06",
   "metadata": {},
   "outputs": [
    {
     "data": {
      "text/plain": [
       "55130"
      ]
     },
     "execution_count": 2,
     "metadata": {},
     "output_type": "execute_result"
    }
   ],
   "source": [
    "sum(digits)"
   ]
  },
  {
   "cell_type": "markdown",
   "id": "248bf615-3c54-46e3-85cf-38e143f1b3cc",
   "metadata": {},
   "source": [
    "Clean Version:"
   ]
  },
  {
   "cell_type": "code",
   "execution_count": 1,
   "id": "07e35c27-41ac-42c1-8ad9-571267acbf3f",
   "metadata": {},
   "outputs": [
    {
     "name": "stdout",
     "output_type": "stream",
     "text": [
      "55130\n",
      "55130\n"
     ]
    }
   ],
   "source": [
    "import re\n",
    "input = \"input.txt\"\n",
    "with open(input, 'r') as infile:\n",
    "    data = [l.strip() for l in infile.readlines()]\n",
    "\n",
    "calibration_values = []\n",
    "for line in data:\n",
    "    #Search from the front\n",
    "    front_match = re.search(r'\\d', line)\n",
    "    #Search from the back - the shortcut to revert a string is [::-1]\n",
    "    back_match = re.search(r'\\d', line[::-1])\n",
    "    #re.search() gives you a 'Match' object. You get the actual string by accessing the 'group()' of this Match.\n",
    "    #So we concatenate the 'group()' of the 'front' match and the 'back' match to get the full number\n",
    "    value = front_match.group() + back_match.group()\n",
    "    #Convert the string to an integer and append it to the list of calibration values\n",
    "    calibration_values.append(int(value))\n",
    "    \n",
    "#Now we just sum up this number\n",
    "result = sum(calibration_values)\n",
    "print(result)\n",
    "\n",
    "#You could also have done this all in one line, but it's a little hard to read then\n",
    "print(sum(int(re.search(r'\\d', line).group() + re.search(r'\\d', line[::-1]).group()) for line in data))"
   ]
  },
  {
   "cell_type": "markdown",
   "id": "8d1f8962-10d1-4157-8f6b-4bcb402e8c2b",
   "metadata": {},
   "source": [
    "PART II"
   ]
  },
  {
   "cell_type": "code",
   "execution_count": 2,
   "id": "c1288336-97a7-413a-8966-e782e994ecf7",
   "metadata": {},
   "outputs": [],
   "source": [
    "digit_dict = {\n",
    "    \"one\": '1',\n",
    "    \"two\": '2',\n",
    "    \"three\": '3',\n",
    "    \"four\": '4',\n",
    "    \"five\": '5',\n",
    "    \"six\": '6',\n",
    "    \"seven\": '7',\n",
    "    \"eight\": '8',\n",
    "    \"nine\": '9'\n",
    "}"
   ]
  },
  {
   "cell_type": "code",
   "execution_count": 5,
   "id": "3d2242d8-1914-4773-9bac-7377b8c8df2a",
   "metadata": {
    "scrolled": true,
    "tags": []
   },
   "outputs": [
    {
     "name": "stdout",
     "output_type": "stream",
     "text": [
      "54985\n"
     ]
    }
   ],
   "source": [
    "input = \"input.txt\"\n",
    "with open(input, 'r') as infile:\n",
    "    data = [l.strip() for l in infile.readlines()]\n",
    "calibration_values = []\n",
    "for line in data:\n",
    "    current_number_string = \"\"\n",
    "    #Go through the line letter by letter\n",
    "    for i, letter in enumerate(line):\n",
    "        #Now we need to check two things - \n",
    "        #Is the current letter already a digit?\n",
    "        if letter.isdigit():\n",
    "            current_number_string += letter\n",
    "            #If yes, stop the for loop by 'break'ing - we don't want to keep searching!\n",
    "            break\n",
    "        else:\n",
    "            #So it wasn't a digit. In this case, \n",
    "            #check if the line up to here matches one of our 'digit words'\n",
    "            for key, value in digit_dict.items():\n",
    "                #We can get the line up to here using '[:i+1]'\n",
    "                if key in line[:i+1]:\n",
    "                    current_number_string += value\n",
    "                    break\n",
    "            #The 'break' in the line above only breaks out of the inner loop\n",
    "            #But we also need to break the outer loop!\n",
    "            #We know that if were not successful yet, our 'current_number_string' will still have length zero\n",
    "            #So if it has length one we can break out of the loop!\n",
    "            if len(current_number_string) == 1:\n",
    "                break\n",
    "    #Now the same thing, starting from the back of the string...\n",
    "    for i, letter in enumerate(line[::-1]):\n",
    "        if letter.isdigit():\n",
    "            current_number_string += letter\n",
    "            break\n",
    "        else:\n",
    "            for key, value in digit_dict.items():\n",
    "                #Using '[-i-1:]', we get the line starting -i characters before the end\n",
    "                if key in line[-i-1:]:\n",
    "                    current_number_string += value\n",
    "                    break\n",
    "            #Here, our condition for breaking the loop is that 'current_number_string' has length two  \n",
    "            if len(current_number_string) == 2:\n",
    "                break\n",
    "    calibration_values.append(int(current_number_string))\n",
    "#That's it. Now build the sum.\n",
    "print(sum(calibration_values))"
   ]
  }
 ],
 "metadata": {
  "kernelspec": {
   "display_name": "Python 3 (ipykernel)",
   "language": "python",
   "name": "python3"
  },
  "language_info": {
   "codemirror_mode": {
    "name": "ipython",
    "version": 3
   },
   "file_extension": ".py",
   "mimetype": "text/x-python",
   "name": "python",
   "nbconvert_exporter": "python",
   "pygments_lexer": "ipython3",
   "version": "3.9.16"
  }
 },
 "nbformat": 4,
 "nbformat_minor": 5
}
