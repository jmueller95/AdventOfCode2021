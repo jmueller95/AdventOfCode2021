{
 "cells": [
  {
   "cell_type": "markdown",
   "id": "0f9fc08d-74a4-4c31-ac72-8d8db6827d81",
   "metadata": {},
   "source": [
    "PART I"
   ]
  },
  {
   "cell_type": "code",
   "execution_count": 8,
   "id": "2e8e38c1-1430-4fdd-8e8d-4e2fdb9f236b",
   "metadata": {},
   "outputs": [
    {
     "name": "stdout",
     "output_type": "stream",
     "text": [
      "2283\n"
     ]
    }
   ],
   "source": [
    "import re\n",
    "input = \"input.txt\"\n",
    "with open(input, 'r') as infile:\n",
    "    data = [l.strip() for l in infile.readlines()]\n",
    "\n",
    "max_color_cubes = {'red':12, 'green':13, 'blue':14}\n",
    "result = 0\n",
    "for row in data:\n",
    "    #Use regex search to find the first number in the line, that is the game index\n",
    "    game_index = int(re.search('\\d+', row).group())\n",
    "    game = re.split(',|;',row.split(':')[1])\n",
    "    for num_and_color in game:\n",
    "        #I can be sure that splitting 'num_and_color' by ' ' will always give three values (e.g. '', '15', 'green')\n",
    "        #In Python, I can directly assign them to variables\n",
    "        #The first one is garbage, it's always an empty string\n",
    "        #The convention in Python is to assign this to '_' which indicates that the value is ignored and never used again\n",
    "        _, number, color = num_and_color.split(' ')\n",
    "        if int(number) > max_color_cubes[color]:\n",
    "            break\n",
    "    #The 'else' is on the same level as the 'for' - this is a for-else loop, another nice Python trick\n",
    "    #The else is executed if the loop exited normally, after the last iteration\n",
    "    #So if 'break' was used to exit the loop, the 'else' part is skipped\n",
    "    #And this is exactly what we want here\n",
    "    else:\n",
    "        result += int(game_index)\n",
    "print(result)"
   ]
  },
  {
   "cell_type": "markdown",
   "id": "6a85702d-b7bc-4812-a019-4e9944a7175b",
   "metadata": {},
   "source": [
    "PART II:"
   ]
  },
  {
   "cell_type": "code",
   "execution_count": 6,
   "id": "04a9928a-7784-4b8e-bba0-5be74ea092d0",
   "metadata": {},
   "outputs": [],
   "source": [
    "import re\n",
    "#The 'reduce' function is a bit mind-bending when you encounter it for the first time\n",
    "#But it's quite beautiful and elegant imho\n",
    "#See it in action below...\n",
    "from functools import reduce\n",
    "\n",
    "input = \"input.txt\"\n",
    "with open(input, 'r') as infile:\n",
    "    data = [l.strip() for l in infile.readlines()]\n",
    "    \n",
    "\n",
    "result = 0\n",
    "for row in data:\n",
    "    #For each row, we maintain a dictionary of the minimum requirements for the row's game\n",
    "    row_minimum_requirements = {'red':0, 'green':0, 'blue':0}\n",
    "    game_index = int(re.search('\\d+', row).group())\n",
    "    game = re.split(',|;',row.split(':')[1])\n",
    "    for num_and_color in game:\n",
    "        _, number, color = num_and_color.split(' ')\n",
    "        #Update the minimum requirements for the game by checking if the number is greater than the current \n",
    "        row_minimum_requirements[color] = max(row_minimum_requirements[color], int(number))\n",
    "    #The idea of 'reduce' is that you 'fold' a list up into a single value by applying a function to pairs of list elements\n",
    "    #Here this function is the multiply function.\n",
    "    #So we multiply the first element of the list with the second, then the result of this with the third and so on\n",
    "    #The result is then the 'power' of the set\n",
    "    result += reduce(lambda x, y: x*y, row_minimum_requirements.values())"
   ]
  },
  {
   "cell_type": "code",
   "execution_count": 7,
   "id": "84238266-9bdc-4d6f-9917-f655a97564e0",
   "metadata": {},
   "outputs": [
    {
     "data": {
      "text/plain": [
       "78669"
      ]
     },
     "execution_count": 7,
     "metadata": {},
     "output_type": "execute_result"
    }
   ],
   "source": [
    "result"
   ]
  }
 ],
 "metadata": {
  "kernelspec": {
   "display_name": "Python 3 (ipykernel)",
   "language": "python",
   "name": "python3"
  },
  "language_info": {
   "codemirror_mode": {
    "name": "ipython",
    "version": 3
   },
   "file_extension": ".py",
   "mimetype": "text/x-python",
   "name": "python",
   "nbconvert_exporter": "python",
   "pygments_lexer": "ipython3",
   "version": "3.9.16"
  }
 },
 "nbformat": 4,
 "nbformat_minor": 5
}
