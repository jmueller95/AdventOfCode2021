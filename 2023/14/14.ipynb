{
 "cells": [
  {
   "cell_type": "markdown",
   "id": "0f9fc08d-74a4-4c31-ac72-8d8db6827d81",
   "metadata": {},
   "source": [
    "PART I"
   ]
  },
  {
   "cell_type": "code",
   "execution_count": 2,
   "id": "3b2176c4-33e1-4fc4-94ed-bbb62ec8de23",
   "metadata": {},
   "outputs": [],
   "source": [
    "import numpy as np"
   ]
  },
  {
   "cell_type": "code",
   "execution_count": 87,
   "id": "9b73994d-7693-480c-9676-5f46d8344cb6",
   "metadata": {},
   "outputs": [],
   "source": [
    "input = \"input.txt\"\n",
    "with open(input, 'r') as infile:\n",
    "    #Today we split into characters\n",
    "    data = np.array([[c for c in l.strip()] for l in infile.readlines()])"
   ]
  },
  {
   "cell_type": "code",
   "execution_count": 88,
   "id": "08e363f0-66a6-4a6e-84dd-913d4e4c52b4",
   "metadata": {},
   "outputs": [
    {
     "data": {
      "text/plain": [
       "array([['O', '.', '.', ..., '.', '.', 'O'],\n",
       "       ['.', 'O', 'O', ..., 'O', '.', 'O'],\n",
       "       ['.', '.', '.', ..., '.', '.', '.'],\n",
       "       ...,\n",
       "       ['.', '.', '.', ..., 'O', '.', '#'],\n",
       "       ['.', '.', '.', ..., '#', '#', '#'],\n",
       "       ['O', '.', '.', ..., 'O', '.', '.']], dtype='<U1')"
      ]
     },
     "execution_count": 88,
     "metadata": {},
     "output_type": "execute_result"
    }
   ],
   "source": [
    "data"
   ]
  },
  {
   "cell_type": "code",
   "execution_count": 89,
   "id": "89b670f1-2c88-40f0-b18d-b41b8a27d0a7",
   "metadata": {},
   "outputs": [],
   "source": [
    "#Modifies the array in place!\n",
    "def roll_rock(data, i , j, direction):\n",
    "    #For now we only implement north\n",
    "    if direction == 'N':\n",
    "        #Check rows above the rock until we hit another rock\n",
    "        i_new = i-1\n",
    "        while data[i_new,j] == '.' and i_new >= 0:\n",
    "            i_new -= 1\n",
    "        data[i,j] = '.'\n",
    "        data[i_new+1, j] = 'O'\n",
    "    else:\n",
    "        return"
   ]
  },
  {
   "cell_type": "markdown",
   "id": "0a330282-1f5f-4d25-8bb1-7b7d5a46cd08",
   "metadata": {},
   "source": [
    "If we roll all rocks in one direction, we need to start at the top to ensure lower rocks roll as far as they can."
   ]
  },
  {
   "cell_type": "code",
   "execution_count": 90,
   "id": "9268afcc-ccba-4493-a15c-f1d2e9c1326d",
   "metadata": {},
   "outputs": [],
   "source": [
    "def tilt_platform(data, direction):\n",
    "    #Again, only implement north\n",
    "    if direction == 'N':\n",
    "        for i in range(len(data)):\n",
    "            for j in range(len(data[0])):\n",
    "                if data[i,j] == 'O':\n",
    "                    roll_rock(data, i,j,'N')\n",
    "    else:\n",
    "        return"
   ]
  },
  {
   "cell_type": "code",
   "execution_count": 91,
   "id": "df06c406-de93-4c80-b0c6-f69cd30bf883",
   "metadata": {},
   "outputs": [],
   "source": [
    "tilt_platform(data, 'N')"
   ]
  },
  {
   "cell_type": "code",
   "execution_count": 92,
   "id": "cd8b0271-29f2-4c3c-9d69-2471c70b60fc",
   "metadata": {},
   "outputs": [
    {
     "data": {
      "text/plain": [
       "array([['O', 'O', 'O', ..., 'O', '.', 'O'],\n",
       "       ['O', 'O', 'O', ..., 'O', '.', 'O'],\n",
       "       ['.', 'O', 'O', ..., '.', '.', 'O'],\n",
       "       ...,\n",
       "       ['.', '.', '.', ..., '.', '.', '#'],\n",
       "       ['.', '.', '.', ..., '#', '#', '#'],\n",
       "       ['.', '.', '.', ..., 'O', '.', '.']], dtype='<U1')"
      ]
     },
     "execution_count": 92,
     "metadata": {},
     "output_type": "execute_result"
    }
   ],
   "source": [
    "data"
   ]
  },
  {
   "cell_type": "code",
   "execution_count": 93,
   "id": "cd182176-a789-4fbc-aa73-c875cd97265b",
   "metadata": {},
   "outputs": [
    {
     "data": {
      "text/plain": [
       "113525"
      ]
     },
     "execution_count": 93,
     "metadata": {},
     "output_type": "execute_result"
    }
   ],
   "source": [
    "sum(sum(data[i] == 'O') * (len(data) - i) for i in range(len(data)))"
   ]
  },
  {
   "cell_type": "markdown",
   "id": "6a85702d-b7bc-4812-a019-4e9944a7175b",
   "metadata": {},
   "source": [
    "PART II:"
   ]
  },
  {
   "cell_type": "markdown",
   "id": "354b2838-550c-454a-be65-1ccbdd78f0f6",
   "metadata": {},
   "source": [
    "Of course, we need to implement the rest too now.  "
   ]
  },
  {
   "cell_type": "code",
   "execution_count": 185,
   "id": "a32ff219-9136-409a-932f-6c5c3e4b9411",
   "metadata": {},
   "outputs": [],
   "source": [
    "#Modifies the array in place!\n",
    "def roll_rock(data, i , j, direction):\n",
    "    #For now we only implement north\n",
    "    if direction == 'N':\n",
    "        #Check rows above the rock until we hit another rock\n",
    "        i_new = i-1\n",
    "        while i_new >= 0 and data[i_new,j] == '.':\n",
    "            i_new -= 1\n",
    "        data[i,j] = '.'\n",
    "        data[i_new+1, j] = 'O'\n",
    "    elif direction == 'W':\n",
    "        #Check columns left to the rock until we hit another rock\n",
    "        j_new = j-1\n",
    "        while j_new >= 0 and data[i,j_new] == '.':\n",
    "            j_new -= 1\n",
    "        data[i,j] = '.'\n",
    "        data[i, j_new+1] = 'O'\n",
    "    elif direction == 'S':\n",
    "        i_new = i+1\n",
    "        while i_new < len(data) and data[i_new,j] == '.':\n",
    "            i_new += 1\n",
    "        data[i,j] = '.'\n",
    "        data[i_new-1,j] = 'O'\n",
    "    elif direction == 'E':\n",
    "        j_new = j+1\n",
    "        while j_new < len(data[0]) and data[i,j_new] == '.':\n",
    "            j_new += 1\n",
    "        data[i,j] = '.'\n",
    "        data[i,j_new-1] = 'O'"
   ]
  },
  {
   "cell_type": "code",
   "execution_count": 186,
   "id": "a88fe867-8928-442f-8800-5fe707f7fc20",
   "metadata": {},
   "outputs": [],
   "source": [
    "def tilt_platform(data, direction):\n",
    "    if direction == 'N':\n",
    "        for i in range(len(data)):\n",
    "            for j in range(len(data[0])):\n",
    "                if data[i,j] == 'O':\n",
    "                    roll_rock(data, i,j,'N')\n",
    "    elif direction == 'W':\n",
    "        for j in range(len(data[0])):\n",
    "            for i in range(len(data)):\n",
    "                if data[i,j] == 'O':\n",
    "                    roll_rock(data, i,j,'W')\n",
    "    elif direction == 'S':\n",
    "        for i in range(len(data)-1, -1, -1):\n",
    "            for j in range(len(data[0])):\n",
    "                if data[i,j] == 'O':\n",
    "                    roll_rock(data, i,j,'S')\n",
    "    elif direction == 'E':\n",
    "        for j in range(len(data[0])-1, -1, -1):\n",
    "            for i in range(len(data)):\n",
    "                if data[i,j] == 'O':\n",
    "                    roll_rock(data, i,j,'E')"
   ]
  },
  {
   "cell_type": "code",
   "execution_count": 187,
   "id": "d58197b8-8484-4108-bf2a-9588aad1b6c5",
   "metadata": {},
   "outputs": [],
   "source": [
    "def run_spin_cycle():\n",
    "    for direction in 'NWSE':\n",
    "        tilt_platform(data, direction)"
   ]
  },
  {
   "cell_type": "code",
   "execution_count": 188,
   "id": "d45fdc48-750b-4901-9a81-3f4e809f5b9d",
   "metadata": {},
   "outputs": [],
   "source": [
    "n_cycles = 1000000000"
   ]
  },
  {
   "cell_type": "code",
   "execution_count": 219,
   "id": "a839c9ef-d49e-4b65-82c4-409779721471",
   "metadata": {},
   "outputs": [],
   "source": [
    "input = \"input.txt\"\n",
    "with open(input, 'r') as infile:\n",
    "    #Today we split into characters\n",
    "    data = np.array([[c for c in l.strip()] for l in infile.readlines()])"
   ]
  },
  {
   "cell_type": "code",
   "execution_count": 220,
   "id": "6140e77c-c6a1-46c3-be0b-dd50e87fe496",
   "metadata": {},
   "outputs": [],
   "source": [
    "cycles_dict = {hash(data.tobytes()):0}"
   ]
  },
  {
   "cell_type": "code",
   "execution_count": 221,
   "id": "6318f92c-dc48-4630-8c3a-113c86678d7f",
   "metadata": {},
   "outputs": [
    {
     "name": "stdout",
     "output_type": "stream",
     "text": [
      "178 cycles == 94 cycles\n"
     ]
    }
   ],
   "source": [
    "data_store = [data.copy()]\n",
    "for i in range(1,n_cycles):\n",
    "    run_spin_cycle()\n",
    "    data_hash = hash(data.tobytes())\n",
    "    if data_hash in cycles_dict:\n",
    "        break\n",
    "    else:\n",
    "        cycles_dict[data_hash] = i\n",
    "        data_store.append(data.copy())\n",
    "print(f'{i} cycles == {cycles_dict[data_hash]} cycles')"
   ]
  },
  {
   "cell_type": "code",
   "execution_count": 222,
   "id": "d4d21c29-b1d7-4431-a128-afac7c7b601b",
   "metadata": {},
   "outputs": [],
   "source": [
    "period_start = cycles_dict[data_hash]\n",
    "period_length = i - cycles_dict[data_hash]\n",
    "n_cycles_perioded = (n_cycles - period_start) % period_length + period_start \n",
    "data_after_n_cycles = data_store[n_cycles_perioded]"
   ]
  },
  {
   "cell_type": "code",
   "execution_count": 223,
   "id": "57f584f1-9c51-42a1-8ae9-66c74e47e65a",
   "metadata": {},
   "outputs": [
    {
     "data": {
      "text/plain": [
       "101292"
      ]
     },
     "execution_count": 223,
     "metadata": {},
     "output_type": "execute_result"
    }
   ],
   "source": [
    "sum(sum(data_after_n_cycles[i] == 'O') * (len(data) - i) for i in range(len(data)))"
   ]
  },
  {
   "cell_type": "code",
   "execution_count": 224,
   "id": "a4dc0c5b-311a-457d-89bf-41e831f24dab",
   "metadata": {},
   "outputs": [
    {
     "name": "stdout",
     "output_type": "stream",
     "text": [
      "3 3\n",
      "4 4\n",
      "5 5\n",
      "6 6\n",
      "7 7\n",
      "8 8\n",
      "9 9\n",
      "10 3\n",
      "11 4\n",
      "12 5\n",
      "13 6\n",
      "14 7\n",
      "15 8\n",
      "16 9\n",
      "17 3\n",
      "18 4\n",
      "19 5\n"
     ]
    }
   ],
   "source": [
    "#Illustration of how you get to n_cycles_perioded\n",
    "for n in range(3, 20):\n",
    "    print(n, (n - 3) % 7 + 3)"
   ]
  }
 ],
 "metadata": {
  "kernelspec": {
   "display_name": "Python 3 (ipykernel)",
   "language": "python",
   "name": "python3"
  },
  "language_info": {
   "codemirror_mode": {
    "name": "ipython",
    "version": 3
   },
   "file_extension": ".py",
   "mimetype": "text/x-python",
   "name": "python",
   "nbconvert_exporter": "python",
   "pygments_lexer": "ipython3",
   "version": "3.9.16"
  }
 },
 "nbformat": 4,
 "nbformat_minor": 5
}
