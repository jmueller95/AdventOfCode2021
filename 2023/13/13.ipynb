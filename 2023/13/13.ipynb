{
 "cells": [
  {
   "cell_type": "markdown",
   "id": "0f9fc08d-74a4-4c31-ac72-8d8db6827d81",
   "metadata": {},
   "source": [
    "PART I"
   ]
  },
  {
   "cell_type": "code",
   "execution_count": 1,
   "id": "3b2176c4-33e1-4fc4-94ed-bbb62ec8de23",
   "metadata": {},
   "outputs": [],
   "source": [
    "import numpy as np"
   ]
  },
  {
   "cell_type": "code",
   "execution_count": 115,
   "id": "9b73994d-7693-480c-9676-5f46d8344cb6",
   "metadata": {},
   "outputs": [],
   "source": [
    "input = \"input.txt\"\n",
    "with open(input, 'r') as infile:\n",
    "    data = []\n",
    "    current_pattern = []\n",
    "    for row in infile.readlines():\n",
    "        if len(row.strip()) > 0:\n",
    "            current_pattern.append([c for c in row.strip()])\n",
    "        else:\n",
    "            data.append(np.asarray(current_pattern))\n",
    "            current_pattern = []\n",
    "    data.append(np.asarray(current_pattern))\n",
    "    current_pattern = []"
   ]
  },
  {
   "cell_type": "code",
   "execution_count": 116,
   "id": "a49ec482-0501-4ca4-b268-52889174d51d",
   "metadata": {},
   "outputs": [],
   "source": [
    "def check_mirror_axis(pattern, smaller_index, is_column):\n",
    "    if is_column:\n",
    "        #Make it rows for the comparison\n",
    "        pattern = pattern.T\n",
    "    row_pairs_to_compare = [(smaller_index-i, smaller_index+1+i) for i in range(min(smaller_index+1, len(pattern)-smaller_index-1))]\n",
    "    if not row_pairs_to_compare:\n",
    "        return 0\n",
    "    return all(all(pattern[a] == pattern[b]) for a,b in row_pairs_to_compare)"
   ]
  },
  {
   "cell_type": "code",
   "execution_count": 117,
   "id": "0089b731-406d-4076-b2e3-46eac88c69a8",
   "metadata": {},
   "outputs": [],
   "source": [
    "def process_pattern(pattern):\n",
    "    for i in range(len(pattern)):\n",
    "        if check_mirror_axis(pattern, i, False):\n",
    "            return((i+1)*100)\n",
    "    for j in range(len(pattern[0])):\n",
    "        if check_mirror_axis(pattern, j, True):\n",
    "            return(j+1)"
   ]
  },
  {
   "cell_type": "code",
   "execution_count": 118,
   "id": "b62abf13-0bac-4af3-9a4e-4775dfb4bebf",
   "metadata": {},
   "outputs": [
    {
     "name": "stdout",
     "output_type": "stream",
     "text": [
      "37561\n"
     ]
    }
   ],
   "source": [
    "print(sum(process_pattern(pattern) for pattern in data))"
   ]
  },
  {
   "cell_type": "markdown",
   "id": "6a85702d-b7bc-4812-a019-4e9944a7175b",
   "metadata": {},
   "source": [
    "PART II:"
   ]
  },
  {
   "cell_type": "markdown",
   "id": "32d84b7a-1044-4c95-8135-19b57d93c441",
   "metadata": {},
   "source": [
    "Instead of finding full matches, find matches with exactly one difference."
   ]
  },
  {
   "cell_type": "code",
   "execution_count": 126,
   "id": "75e08f36-1a6a-40d5-84b2-ea81da86d939",
   "metadata": {},
   "outputs": [],
   "source": [
    "input = \"input.txt\"\n",
    "with open(input, 'r') as infile:\n",
    "    data = []\n",
    "    current_pattern = []\n",
    "    for row in infile.readlines():\n",
    "        if len(row.strip()) > 0:\n",
    "            current_pattern.append([c for c in row.strip()])\n",
    "        else:\n",
    "            data.append(np.asarray(current_pattern))\n",
    "            current_pattern = []\n",
    "    data.append(np.asarray(current_pattern))\n",
    "    current_pattern = []"
   ]
  },
  {
   "cell_type": "code",
   "execution_count": 128,
   "id": "bd87a27f-e5df-4257-9090-711796eae731",
   "metadata": {},
   "outputs": [],
   "source": [
    "def get_mirror_axis_diff(pattern, smaller_index, is_column):\n",
    "    if is_column:\n",
    "        #Make it rows for the comparison\n",
    "        pattern = pattern.T\n",
    "    row_pairs_to_compare = [(smaller_index-i, smaller_index+1+i) for i in range(min(smaller_index+1, len(pattern)-smaller_index-1))]\n",
    "    if not row_pairs_to_compare:\n",
    "        return 0\n",
    "    return sum(sum(pattern[a] != pattern[b]) for a,b in row_pairs_to_compare)"
   ]
  },
  {
   "cell_type": "code",
   "execution_count": 129,
   "id": "b8bf5b9b-061d-4403-9f81-9b928058774b",
   "metadata": {},
   "outputs": [],
   "source": [
    "def process_pattern_partII(pattern):\n",
    "    for i in range(len(pattern)):\n",
    "        if get_mirror_axis_diff(pattern, i, False) == 1:\n",
    "            return((i+1)*100)\n",
    "    for j in range(len(pattern[0])):\n",
    "        if get_mirror_axis_diff(pattern, j, True) == 1:\n",
    "            return(j+1)"
   ]
  },
  {
   "cell_type": "code",
   "execution_count": 130,
   "id": "d5bacf30-e98a-4abb-8181-d9405f3a030a",
   "metadata": {},
   "outputs": [
    {
     "name": "stdout",
     "output_type": "stream",
     "text": [
      "31108\n"
     ]
    }
   ],
   "source": [
    "print(sum(process_pattern_partII(pattern) for pattern in data))"
   ]
  }
 ],
 "metadata": {
  "kernelspec": {
   "display_name": "Python 3 (ipykernel)",
   "language": "python",
   "name": "python3"
  },
  "language_info": {
   "codemirror_mode": {
    "name": "ipython",
    "version": 3
   },
   "file_extension": ".py",
   "mimetype": "text/x-python",
   "name": "python",
   "nbconvert_exporter": "python",
   "pygments_lexer": "ipython3",
   "version": "3.9.16"
  }
 },
 "nbformat": 4,
 "nbformat_minor": 5
}
